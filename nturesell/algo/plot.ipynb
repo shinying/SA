{
 "cells": [
  {
   "cell_type": "code",
   "execution_count": 2,
   "metadata": {},
   "outputs": [
    {
     "name": "stderr",
     "output_type": "stream",
     "text": [
      "Dispatching 0 tasks with Efficient Greedy...\n"
     ]
    },
    {
     "name": "stdout",
     "output_type": "stream",
     "text": [
      "======== Task 0 Result ========\n",
      "* Ship ID: 350796\n",
      "* Should Started at: 2017-01-02 06:14\n",
      "* Started at: 2017-01-02 08:15\n",
      "* Working time: 26.2 mins\n",
      "* State: PROCESSED\n",
      "* Weight: 25881\n",
      "* Delay_time:0 days 02:01:46.506348\n",
      "\n",
      "* Tug Set :112 \n",
      "* Required Tugs: [118]\n",
      "* Dispatched Tugs [118]\n",
      "\n",
      "* Revenue: 10846\n",
      "* Waiting_cost: 121.76666666666667 \n",
      "* Moving_cost: 317.91223328282666\n",
      "* Profit: 10528.087766717174\n",
      "\n",
      "======== Task 1 Result ========\n",
      "* Ship ID: 444154\n",
      "* Should Started at: 2017-01-02 06:33\n",
      "* Started at: 2017-01-02 06:33\n",
      "* Working time: 33.0 mins\n",
      "* State: PROCESSED\n",
      "* Weight: 5757\n",
      "* Delay_time:0 days 00:00:00\n",
      "\n",
      "* Tug Set :322 \n",
      "* Required Tugs: [118]\n",
      "* Dispatched Tugs [119]\n",
      "\n",
      "* Revenue: 10846\n",
      "* Waiting_cost: 0.0 \n",
      "* Moving_cost: 487.7403048687208\n",
      "* Profit: 10358.259695131279\n",
      "\n",
      "======== Task 2 Result ========\n",
      "* Ship ID: 50334\n",
      "* Should Started at: 2017-01-02 08:17\n",
      "* Started at: 2017-01-02 08:23\n",
      "* Working time: 1432.7666666666667 mins\n",
      "* State: PROCESSED\n",
      "* Weight: 15636\n",
      "* Delay_time:0:06:12\n",
      "\n",
      "* Tug Set :112 \n",
      "* Required Tugs: [118]\n",
      "* Dispatched Tugs [118]\n",
      "\n",
      "* Revenue: 10846\n",
      "* Waiting_cost: 6.2 \n",
      "* Moving_cost: 126.77049251489466\n",
      "* Profit: 10719.229507485104\n",
      "\n",
      "======== Task 4 Result ========\n",
      "* Ship ID: 35629\n",
      "* Should Started at: 2017-01-02 06:28\n",
      "* Started at: 2017-01-02 06:28\n",
      "* Working time: 10.0 mins\n",
      "* State: PROCESSED\n",
      "* Weight: 15995\n",
      "* Delay_time:0:00:00\n",
      "\n",
      "* Tug Set :171 \n",
      "* Required Tugs: [118]\n",
      "* Dispatched Tugs [130]\n",
      "\n",
      "* Revenue: 10846\n",
      "* Waiting_cost: 0.0 \n",
      "* Moving_cost: 60.07175139228029\n",
      "* Profit: 10785.928248607719\n",
      "\n",
      "======== Task 5 Result ========\n",
      "* Ship ID: 947261\n",
      "* Should Started at: 2017-01-02 06:50\n",
      "* Started at: 2017-01-02 08:27\n",
      "* Working time: 11.1 mins\n",
      "* State: PROCESSED\n",
      "* Weight: 24625\n",
      "* Delay_time:0 days 01:37:03.711231\n",
      "\n",
      "* Tug Set :112 \n",
      "* Required Tugs: [118]\n",
      "* Dispatched Tugs [118]\n",
      "\n",
      "* Revenue: 10846\n",
      "* Waiting_cost: 97.05 \n",
      "* Moving_cost: 600.5966317662286\n",
      "* Profit: 10245.403368233772\n",
      "\n",
      "======== Task 6 Result ========\n",
      "* Ship ID: 439347\n",
      "* Should Started at: 2017-01-02 06:55\n",
      "* Started at: 2017-01-02 08:22\n",
      "* Working time: 26.55 mins\n",
      "* State: PROCESSED\n",
      "* Weight: 4030\n",
      "* Delay_time:0 days 01:27:53.083109\n",
      "\n",
      "* Tug Set :112 \n",
      "* Required Tugs: [117]\n",
      "* Dispatched Tugs [118]\n",
      "\n",
      "* Revenue: 7395\n",
      "* Waiting_cost: 87.88333333333334 \n",
      "* Moving_cost: 600.5966317662286\n",
      "* Profit: 6794.403368233771\n",
      "\n",
      "======== Task 8 Result ========\n",
      "* Ship ID: 358223\n",
      "* Should Started at: 2017-01-02 07:12\n",
      "* Started at: 2017-01-02 08:27\n",
      "* Working time: 0.85 mins\n",
      "* State: PROCESSED\n",
      "* Weight: 21072\n",
      "* Delay_time:0 days 01:15:03.682432\n",
      "\n",
      "* Tug Set :112 322 \n",
      "* Required Tugs: [118, 119]\n",
      "* Dispatched Tugs [118, 119]\n",
      "\n",
      "* Revenue: 30566\n",
      "* Waiting_cost: 75.05 \n",
      "* Moving_cost: 1201.1932635324572\n",
      "* Profit: 29364.806736467544\n",
      "\n",
      "======== Task 9 Result ========\n",
      "* Ship ID: 387118\n",
      "* Should Started at: 2017-01-02 07:35\n",
      "* Started at: 2017-01-02 07:55\n",
      "* Working time: 16.4 mins\n",
      "* State: PROCESSED\n",
      "* Weight: 4675\n",
      "* Delay_time:0 days 00:20:05.904364\n",
      "\n",
      "* Tug Set :112 \n",
      "* Required Tugs: [117]\n",
      "* Dispatched Tugs [118]\n",
      "\n",
      "* Revenue: 7395\n",
      "* Waiting_cost: 20.083333333333332 \n",
      "* Moving_cost: 217.97667091301054\n",
      "* Profit: 7177.023329086989\n",
      "\n",
      "======== Task 10 Result ========\n",
      "* Ship ID: 2089\n",
      "* Should Started at: 2017-01-02 07:31\n",
      "* Started at: 2017-01-02 08:01\n",
      "* Working time: 1434.0666666666666 mins\n",
      "* State: PROCESSED\n",
      "* Weight: 14807\n",
      "* Delay_time:0 days 00:30:49.474478\n",
      "\n",
      "* Tug Set :112 \n",
      "* Required Tugs: [118]\n",
      "* Dispatched Tugs [118]\n",
      "\n",
      "* Revenue: 10846\n",
      "* Waiting_cost: 30.816666666666666 \n",
      "* Moving_cost: 126.77049251489466\n",
      "* Profit: 10719.229507485104\n",
      "\n",
      "======== Task 11 Result ========\n",
      "* Ship ID: 47198\n",
      "* Should Started at: 2017-01-02 07:25\n",
      "* Started at: 2017-01-02 07:47\n",
      "* Working time: 8.566666666666666 mins\n",
      "* State: PROCESSED\n",
      "* Weight: 2812\n",
      "* Delay_time:0 days 00:22:11.834161\n",
      "\n",
      "* Tug Set :145 \n",
      "* Required Tugs: [117]\n",
      "* Dispatched Tugs [117]\n",
      "\n",
      "* Revenue: 7395\n",
      "* Waiting_cost: 22.183333333333334 \n",
      "* Moving_cost: 130.73033406438898\n",
      "* Profit: 7249.902999268944\n",
      "\n",
      "======== Task 12 Result ========\n",
      "* Ship ID: 329932\n",
      "* Should Started at: 2017-01-02 07:37\n",
      "* Started at: 2017-01-02 07:56\n",
      "* Working time: 28.283333333333335 mins\n",
      "* State: PROCESSED\n",
      "* Weight: 4825\n",
      "* Delay_time:0 days 00:19:23.756818\n",
      "\n",
      "* Tug Set :112 \n",
      "* Required Tugs: [117]\n",
      "* Dispatched Tugs [118]\n",
      "\n",
      "* Revenue: 7395\n",
      "* Waiting_cost: 19.383333333333333 \n",
      "* Moving_cost: 0.0\n",
      "* Profit: 7395.0\n",
      "\n",
      "======== Task 13 Result ========\n",
      "* Ship ID: 51241\n",
      "* Should Started at: 2017-01-02 07:42\n",
      "* Started at: 2017-01-02 08:02\n",
      "* Working time: 10.45 mins\n",
      "* State: PROCESSED\n",
      "* Weight: 12405\n",
      "* Delay_time:0 days 00:20:33.073980\n",
      "\n",
      "* Tug Set :112 \n",
      "* Required Tugs: [118]\n",
      "* Dispatched Tugs [118]\n",
      "\n",
      "* Revenue: 10846\n",
      "* Waiting_cost: 20.55 \n",
      "* Moving_cost: 126.77049251489466\n",
      "* Profit: 10719.229507485104\n",
      "\n",
      "======== EFFICIENT_SUMMARY ========\n",
      "Revenue: 136068.00\n",
      "Total_waiting_cost: 500.97\n",
      "Total_moving_cost: 3997.13\n",
      "Profit: 131569.90\n",
      "Time usage: 0.02 secs\n",
      "High five! You successfully sent some data to your account on plotly. View your plot in your browser at https://plot.ly/~angyeahyeah6/0 or inside your plot.ly account where it is named 'task-gantt'\n"
     ]
    }
   ],
   "source": [
    "import plotly.tools as pt\n",
    "import plotly.plotly as pp\n",
    "import plotly.figure_factory as ff\n",
    "from datetime import datetime\n",
    "from datetime import timedelta\n",
    "from his.data import history_tasks\n",
    "from main import main\n",
    "from utils.utility import count_move_time\n",
    "import numpy as np\n",
    "import random\n",
    "# pt.set_credentials_file(username='hanjuTsai', api_key='XEOnjaC9Om7WcOwgbRqs')\n",
    "pt.set_credentials_file(username='angyeahyeah6', api_key='heDVJdzx2KYVJAfpReWi')\n",
    "tasks = main(['','e']) \n",
    "import numpy as np\n",
    "number_of_colors = 100\n",
    "color = [\"#\"+''.join([random.choice('0123456789ABCDEF') for j in range(number_of_colors)]) for i in range(number_of_colors)]"
   ]
  },
  {
   "cell_type": "code",
   "execution_count": 3,
   "metadata": {},
   "outputs": [],
   "source": [
    "i = 0\n",
    "colors = dict()\n",
    "for task in tasks:\n",
    "#     color = \"rgb({}, {}, {})\".format(random.randint(0, 255), random.randint(0, 255), random.randint(0, 255))\n",
    "    color = 'rgb(128, 138, 135)'\n",
    "    colors[str(task.id)] = color\n",
    "colors['delay_time'] = 'rgb(255,153,51)'\n",
    "colors['move_time'] = 'rgb(0,204,204)'\n",
    "colors['work_time'] = 'rgb(128, 138, 135)'"
   ]
  },
  {
   "cell_type": "code",
   "execution_count": 4,
   "metadata": {},
   "outputs": [],
   "source": [
    "# for i in tasks:\n",
    "#     print(i.delay_time)"
   ]
  },
  {
   "cell_type": "code",
   "execution_count": 5,
   "metadata": {},
   "outputs": [],
   "source": [
    "df = []\n",
    "# tasks.sort(key=lambda x: x.start_time + x.delay_time)\n",
    "for task in tasks:\n",
    "    df.append(dict(Task=str(task.ship.ship_id), Start = task.start_time, Finish = task.start_time + task.work_time, Resource=str(task.id)))\n",
    "    df.append(dict(Task=str(task.ship.ship_id), Start = task.start_time - task.delay_time , Finish = task.start_time , Resource = 'delay_time'))"
   ]
  },
  {
   "cell_type": "code",
   "execution_count": 6,
   "metadata": {},
   "outputs": [
    {
     "name": "stdout",
     "output_type": "stream",
     "text": [
      "High five! You successfully sent some data to your account on plotly. View your plot in your browser at https://plot.ly/~angyeahyeah6/0 or inside your plot.ly account where it is named 'task-gantt'\n"
     ]
    },
    {
     "name": "stderr",
     "output_type": "stream",
     "text": [
      "/usr/local/lib/python3.7/site-packages/IPython/core/display.py:689: UserWarning:\n",
      "\n",
      "Consider using IPython.display.IFrame instead\n",
      "\n"
     ]
    },
    {
     "data": {
      "text/html": [
       "<iframe id=\"igraph\" scrolling=\"no\" style=\"border:none;\" seamless=\"seamless\" src=\"https://plot.ly/~angyeahyeah6/0.embed\" height=\"600px\" width=\"900px\"></iframe>"
      ],
      "text/plain": [
       "<plotly.tools.PlotlyDisplay object>"
      ]
     },
     "execution_count": 6,
     "metadata": {},
     "output_type": "execute_result"
    }
   ],
   "source": [
    "fig = ff.create_gantt(df, colors=colors, index_col='Resource', show_colorbar=True, group_tasks=True)\n",
    "pp.iplot(fig, filename='task-gantt', world_readable=True)"
   ]
  },
  {
   "cell_type": "code",
   "execution_count": 7,
   "metadata": {},
   "outputs": [],
   "source": [
    "df = []\n",
    "for task in tasks:\n",
    "    for tug in task.tugs:\n",
    "        df.append(dict(Task=str(tug.tug_id), Start = task.start_time, Finish = task.start_time + task.work_time, Resource= 'work_time'))\n",
    "        df.append(dict(Task=str(tug.tug_id), Start = task.start_time - count_move_time(task.task_state, tug.pos, task.start) , Finish = task.start_time, Resource='move_time'))"
   ]
  },
  {
   "cell_type": "code",
   "execution_count": 8,
   "metadata": {},
   "outputs": [
    {
     "data": {
      "text/html": [
       "<iframe id=\"igraph\" scrolling=\"no\" style=\"border:none;\" seamless=\"seamless\" src=\"https://plot.ly/~angyeahyeah6/2.embed\" height=\"600px\" width=\"900px\"></iframe>"
      ],
      "text/plain": [
       "<plotly.tools.PlotlyDisplay object>"
      ]
     },
     "execution_count": 8,
     "metadata": {},
     "output_type": "execute_result"
    }
   ],
   "source": [
    "fig = ff.create_gantt(df, group_tasks=True, show_colorbar=True , colors=colors, index_col='Resource',showgrid_x=True)\n",
    "pp.iplot(fig, filename='tug-worktime-gantt', world_readable=True)"
   ]
  },
  {
   "cell_type": "code",
   "execution_count": null,
   "metadata": {},
   "outputs": [],
   "source": [
    "\n"
   ]
  },
  {
   "cell_type": "code",
   "execution_count": null,
   "metadata": {},
   "outputs": [],
   "source": []
  }
 ],
 "metadata": {
  "kernelspec": {
   "display_name": "Python 3",
   "language": "python",
   "name": "python3"
  },
  "language_info": {
   "codemirror_mode": {
    "name": "ipython",
    "version": 3
   },
   "file_extension": ".py",
   "mimetype": "text/x-python",
   "name": "python",
   "nbconvert_exporter": "python",
   "pygments_lexer": "ipython3",
   "version": "3.7.2"
  }
 },
 "nbformat": 4,
 "nbformat_minor": 2
}
